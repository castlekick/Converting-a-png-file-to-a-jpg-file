{
 "cells": [
  {
   "cell_type": "code",
   "execution_count": 1,
   "id": "879666b4",
   "metadata": {},
   "outputs": [
    {
     "ename": "ModuleNotFoundError",
     "evalue": "No module named 'PIL'",
     "output_type": "error",
     "traceback": [
      "\u001b[31m---------------------------------------------------------------------------\u001b[39m",
      "\u001b[31mModuleNotFoundError\u001b[39m                       Traceback (most recent call last)",
      "\u001b[36mCell\u001b[39m\u001b[36m \u001b[39m\u001b[32mIn[1]\u001b[39m\u001b[32m, line 3\u001b[39m\n\u001b[32m      1\u001b[39m \u001b[38;5;28;01mimport\u001b[39;00m\u001b[38;5;250m \u001b[39m\u001b[34;01mos\u001b[39;00m\n\u001b[32m      2\u001b[39m \u001b[38;5;28;01mimport\u001b[39;00m\u001b[38;5;250m \u001b[39m\u001b[34;01mshutil\u001b[39;00m\n\u001b[32m----> \u001b[39m\u001b[32m3\u001b[39m \u001b[38;5;28;01mfrom\u001b[39;00m\u001b[38;5;250m \u001b[39m\u001b[34;01mPIL\u001b[39;00m\u001b[38;5;250m \u001b[39m\u001b[38;5;28;01mimport\u001b[39;00m Image\n\u001b[32m      5\u001b[39m \u001b[38;5;66;03m# 📂 경로 설정\u001b[39;00m\n\u001b[32m      6\u001b[39m src_folder = \u001b[33mr\u001b[39m\u001b[33m\"\u001b[39m\u001b[33m \u001b[39m\u001b[33m\"\u001b[39m   \u001b[38;5;66;03m# 원본 폴더\u001b[39;00m\n",
      "\u001b[31mModuleNotFoundError\u001b[39m: No module named 'PIL'"
     ]
    }
   ],
   "source": [
    "import os\n",
    "import shutil\n",
    "from PIL import Image\n",
    "\n",
    "# 📂 경로 설정\n",
    "src_folder = r\" \"   # 원본 폴더\n",
    "dst_folder = r\" \"       # JPG 저장 폴더\n",
    "\n",
    "# 📁 저장 폴더가 없으면 생성\n",
    "os.makedirs(dst_folder, exist_ok=True)\n",
    "\n",
    "count_png = 0\n",
    "count_jpg = 0\n",
    "\n",
    "for filename in os.listdir(src_folder):\n",
    "    src_path = os.path.join(src_folder, filename)\n",
    "\n",
    "    # PNG → JPG 변환\n",
    "    if filename.lower().endswith('.png'):\n",
    "        new_filename = os.path.splitext(filename)[0] + \".jpg\"\n",
    "        dst_path = os.path.join(dst_folder, new_filename)\n",
    "\n",
    "        try:\n",
    "            with Image.open(src_path) as img:\n",
    "                rgb_img = img.convert('RGB')\n",
    "                rgb_img.save(dst_path, 'JPEG')\n",
    "                count_png += 1\n",
    "                print(f\"[PNG 변환] ✅ {new_filename}\")\n",
    "        except Exception as e:\n",
    "            print(f\"[PNG 오류] ❌ {filename} → {e}\")\n",
    "\n",
    "    # 기존 JPG 복사\n",
    "    elif filename.lower().endswith('.jpg') or filename.lower().endswith('.jpeg'):\n",
    "        dst_path = os.path.join(dst_folder, filename)\n",
    "        try:\n",
    "            shutil.copy2(src_path, dst_path)\n",
    "            count_jpg += 1\n",
    "            print(f\"[JPG 복사] ✅ {filename}\")\n",
    "        except Exception as e:\n",
    "            print(f\"[JPG 오류] ❌ {filename} → {e}\")\n",
    "\n",
    "print(f\"\\n🎉 변환 완료: PNG → JPG {count_png}개, 기존 JPG 복사 {count_jpg}개\")"
   ]
  }
 ],
 "metadata": {
  "kernelspec": {
   "display_name": "python=3.9",
   "language": "python",
   "name": "python3"
  },
  "language_info": {
   "codemirror_mode": {
    "name": "ipython",
    "version": 3
   },
   "file_extension": ".py",
   "mimetype": "text/x-python",
   "name": "python",
   "nbconvert_exporter": "python",
   "pygments_lexer": "ipython3",
   "version": "3.13.3"
  }
 },
 "nbformat": 4,
 "nbformat_minor": 5
}
